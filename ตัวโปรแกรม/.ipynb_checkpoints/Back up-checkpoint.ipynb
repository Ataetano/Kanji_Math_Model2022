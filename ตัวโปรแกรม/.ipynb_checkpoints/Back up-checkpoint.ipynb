{
 "cells": [
  {
   "cell_type": "code",
   "execution_count": 1,
   "id": "0918db81",
   "metadata": {},
   "outputs": [
    {
     "name": "stdout",
     "output_type": "stream",
     "text": [
      "การเรียนรู้คันจิที่เหมาะสมคือการเรียนรู้คันจิในช่วง -824.5301681503461 ตัว โดยต้องไม่เกิน -824.5260468183316 ตัว\n"
     ]
    },
    {
     "data": {
      "image/png": "[encoded data removed]",
      "text/plain": [
       "<Figure size 432x288 with 1 Axes>"
      ]
     },
     "metadata": {
      "needs_background": "light"
     },
     "output_type": "display_data"
    }
   ],
   "source": [
    "import math \n",
    "import ipywidgets as widgets\n",
    "import matplotlib.pyplot as plt\n",
    "import numpy as np\n",
    "#ส่วนพารามิเตอร์\n",
    "𝛼 = 10\n",
    "𝛽 = 0.663\n",
    "l = 786\n",
    "t_max = 720\n",
    "K_01 = 100000\n",
    "K_02 = 100000\n",
    "K_03 = 100000\n",
    "K_04 = 100000\n",
    "K_05 = 100000\n",
    "K_06 = 100000\n",
    "#ส่วนคำนวณการเรียนรู้คันจิในช่วงวิชาเรียน Japanise 1\n",
    "I_1 = 80 + l\n",
    "def L_1(t):\n",
    "    if t <= 120:\n",
    "        learning_j1 = math.floor((1 - 𝛽)*(K_01 + 𝛼*t))\n",
    "        return min(I_1, learning_j1)\n",
    "    elif t > 120 :\n",
    "        learning_j1 = math.floor((1 - 𝛽)*(K_01 + 𝛼*120))\n",
    "        return min(I_1, learning_j1)\n",
    "#ส่วนคำนวณการเรียนรู้คันจิในช่วงวิชาเรียน Japanise 2\n",
    "I_2 = 120 + (l - L_1(t_max) + 80)\n",
    "def L_2(t):\n",
    "    if t <= 120:\n",
    "        return 0\n",
    "    elif (t > 120) and (t <= 240):\n",
    "        learning_j2 = math.floor((1 - 𝛽)*(K_02 + 𝛼*(t-120)))\n",
    "        return min(I_2, learning_j2)\n",
    "    elif t > 240 :\n",
    "        learning_j2 = math.floor((1 - 𝛽)*(K_02 + 𝛼*120))\n",
    "        return min(I_2, learning_j2)\n",
    "#ส่วนคำนวณการเรียนรู้คันจิในช่วงวิชาเรียน Japanise 3\n",
    "I_3 = 250 + (l - L_1(t_max) + 80 - L_2(t_max) + 120)\n",
    "def L_3(t):\n",
    "    if t <= 240:\n",
    "        return 0\n",
    "    elif (t > 240) and (t <= 360):\n",
    "        learning_j3 = math.floor((1 - 𝛽)*(K_03 + 𝛼*(t-240)))\n",
    "        return min(I_3, learning_j3)\n",
    "    elif t > 360 :\n",
    "        learning_j3 = math.floor((1 - 𝛽)*(K_03 + 𝛼*120))\n",
    "        return min(I_3, learning_j3)\n",
    "#ส่วนคำนวณการเรียนรู้คันจิในช่วงวิชาเรียน Japanise 4\n",
    "I_4 = 250 + (l - L_1(t_max) + 80 - L_2(t_max) + 120 - L_3(t_max) + 250)\n",
    "def L_4(t):\n",
    "    if t <= 360:\n",
    "        return 0\n",
    "    elif (t > 360) and (t <= 480):\n",
    "        learning_j4 = math.floor((1 - 𝛽)*(K_04 + 𝛼*(t-360)))\n",
    "        return min(I_4, learning_j4)\n",
    "    elif t > 480 :\n",
    "        learning_j4 = math.floor((1 - 𝛽)*(K_04 + 𝛼*120))\n",
    "        return min(I_4, learning_j4)\n",
    "#ส่วนคำนวณการเรียนรู้คันจิในช่วงวิชาเรียน Japanise 5\n",
    "I_5 = 300 + (l - L_1(t_max) + 80 - L_2(t_max) + 120 - L_3(t_max) + 250 - L_4(t_max) + 250)\n",
    "def L_5(t):\n",
    "    if t <= 480:\n",
    "        return 0\n",
    "    elif (t > 480) and (t <= 600):\n",
    "        learning_j5 = math.floor((1 - 𝛽)*(K_05 + 𝛼*(t-480)))\n",
    "        return min(I_5, learning_j5)\n",
    "    elif t > 600 :\n",
    "        learning_j5 = math.floor((1 - 𝛽)*(K_05 + 𝛼*120))\n",
    "        return min(I_5, learning_j5)\n",
    "#ส่วนคำนวณการเรียนรู้คันจิในช่วงวิชาเรียน Japanise 6\n",
    "I_6 = 350 + (l - L_1(t_max) + 80 - L_2(t_max) + 120 - L_3(t_max) + 250 - L_4(t_max) + 250 - L_5(t_max) + 300)\n",
    "def L_6(t):\n",
    "    if t <= 600:\n",
    "        return 0\n",
    "    elif (t > 600) and (t <= 720):\n",
    "        learning_j6 = math.floor((1 - 𝛽)*(K_05 + 𝛼*(t-600)))\n",
    "        return min(I_6, learning_j6)\n",
    "    elif t > 600 :\n",
    "        learning_j5 = math.floor((1 - 𝛽)*(K_05 + 𝛼*120))\n",
    "        return min(I_6, learning_j6)\n",
    "#ส่วนคำนวณการเรียนรู้คันจิที่พอเหมาะกับเวลาเรียน 720 วัน\n",
    "𝛼_star = (2136 - (K_01 + K_02 + K_03 + K_04 + K_05 + K_06)*(1 - 𝛽))/(720*(1 - 𝛽))\n",
    "𝛼_star_u = (2137 - (K_01 + K_02 + K_03 + K_04 + K_05 + K_06)*(1 - 𝛽))/(720*(1 - 𝛽))\n",
    "print(f'การเรียนรู้คันจิที่เหมาะสมคือการเรียนรู้คันจิในช่วง {𝛼_star} ตัว โดยต้องไม่เกิน {𝛼_star_u} ตัว')\n",
    "#ส่วน Plot กราฟแสดงการเรียนรู้คันจิ\n",
    "list_Lt = []\n",
    "list_t = []\n",
    "for t in range(0 , 720+1):\n",
    "    list_t.append(t)\n",
    "\n",
    "    Lt = L_1(t) + L_2(t) + L_3(t) + L_4(t) + L_5(t) + L_6(t)\n",
    "    list_Lt.append(Lt)\n",
    "plt.plot(list_t, list_Lt, label = 'L(t)')\n",
    "plt.xlabel('Days')\n",
    "plt.ylabel('Kanji learned')\n",
    "plt.legend()\n",
    "plt.grid()\n",
    "plt.show()"
   ]
  },
  {
   "cell_type": "code",
   "execution_count": null,
   "id": "c4b7e765",
   "metadata": {},
   "outputs": [],
   "source": []
  }
 ],
 "metadata": {
  "kernelspec": {
   "display_name": "Python 3 (ipykernel)",
   "language": "python",
   "name": "python3"
  },
  "language_info": {
   "codemirror_mode": {
    "name": "ipython",
    "version": 3
   },
   "file_extension": ".py",
   "mimetype": "text/x-python",
   "name": "python",
   "nbconvert_exporter": "python",
   "pygments_lexer": "ipython3",
   "version": "3.9.7"
  }
 },
 "nbformat": 4,
 "nbformat_minor": 5
}
